{
 "cells": [
  {
   "cell_type": "code",
   "execution_count": 1,
   "id": "f3a846c9",
   "metadata": {},
   "outputs": [
    {
     "name": "stdout",
     "output_type": "stream",
     "text": [
      "Student Details:\n",
      "  Student Name Matric Number               Department  Level\n",
      "0       Oluchi   ACC74837584               Accounting    300\n",
      "1        Adams   ECO35749503                Economics    100\n",
      "2       Shania   CSC74938405         Computer Science    200\n",
      "3     Adekunle   EEE84027748  Electronics Engineering    200\n",
      "4       Blanca   MEE82937495   Mechanical Engineering    100\n",
      "\n",
      "Enter the file name to save as (without extension): Student details \n",
      "\n",
      "Data saved to Student details .xlsx file successfully.\n"
     ]
    }
   ],
   "source": [
    "import pandas as pd\n",
    "\n",
    "# Create a dictionary with the provided student details\n",
    "data = {\n",
    "    \"Student Name\": [\"Oluchi\", \"Adams\", \"Shania\", \"Adekunle\", \"Blanca\"],\n",
    "    \"Matric Number\": [\"ACC74837584\", \"ECO35749503\", \"CSC74938405\", \"EEE84027748\", \"MEE82937495\"],\n",
    "    \"Department\": [\"Accounting\", \"Economics\", \"Computer Science\", \"Electronics Engineering\", \"Mechanical Engineering\"],\n",
    "    \"Level\": [300, 100, 200, 200, 100]\n",
    "}\n",
    "\n",
    "# Create a DataFrame from the dictionary\n",
    "df = pd.DataFrame(data)\n",
    "\n",
    "# Display the DataFrame\n",
    "print(\"Student Details:\")\n",
    "print(df)\n",
    "\n",
    "# Save the DataFrame to an Excel file\n",
    "file_name = input(\"\\nEnter the file name to save as (without extension): \")\n",
    "df.to_excel(f\"{file_name}.xlsx\", index=False)\n",
    "print(f\"\\nData saved to {file_name}.xlsx file successfully.\")\n"
   ]
  },
  {
   "cell_type": "code",
   "execution_count": null,
   "id": "7195c6fd",
   "metadata": {},
   "outputs": [],
   "source": []
  }
 ],
 "metadata": {
  "kernelspec": {
   "display_name": "Python 3 (ipykernel)",
   "language": "python",
   "name": "python3"
  },
  "language_info": {
   "codemirror_mode": {
    "name": "ipython",
    "version": 3
   },
   "file_extension": ".py",
   "mimetype": "text/x-python",
   "name": "python",
   "nbconvert_exporter": "python",
   "pygments_lexer": "ipython3",
   "version": "3.10.9"
  }
 },
 "nbformat": 4,
 "nbformat_minor": 5
}
