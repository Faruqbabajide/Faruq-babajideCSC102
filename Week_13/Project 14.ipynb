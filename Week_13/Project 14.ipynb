{
 "cells": [
  {
   "cell_type": "code",
   "execution_count": null,
   "id": "ff5ce6dd",
   "metadata": {},
   "outputs": [],
   "source": [
    "import pandas as pd\n",
    "\n",
    "# Create empty lists to store the student details\n",
    "names = []\n",
    "matric_numbers = []\n",
    "departments = []\n",
    "levels = []\n",
    "\n",
    "# Input the number of students\n",
    "num_students = int(input(\"Enter the number of students: \"))\n",
    "\n",
    "# Input the details of each student\n",
    "for i in range(num_students):\n",
    "    print(f\"\\nEnter details for Student {i+1}:\")\n",
    "    name = input(\"Name: \")\n",
    "    matric_number = input(\"Matric Number: \")\n",
    "    department = input(\"Department: \")\n",
    "    level = input(\"Level: \")\n",
    "\n",
    "    # Append the details to respective lists\n",
    "    names.append(name)\n",
    "    matric_numbers.append(matric_number)\n",
    "    departments.append(department)\n",
    "    levels.append(level)\n",
    "\n",
    "# Create a dictionary to store the student details\n",
    "data = {\n",
    "    \"Student Name\": names,\n",
    "    \"Matric Number\": matric_numbers,\n",
    "    \"Department\": departments,\n",
    "    \"Level\": levels\n",
    "}\n",
    "\n",
    "# Create a DataFrame from the dictionary\n",
    "df = pd.DataFrame(data)\n",
    "\n",
    "# Display the DataFrame\n",
    "print(\"\\nStudent Details:\")\n",
    "print(df)\n",
    "\n",
    "# Save the DataFrame to an Excel file\n",
    "file_name = input(\"\\nEnter the file name to save as (without extension): \")\n",
    "df.to_excel(f\"{file_name}.xlsx\", index=False)\n",
    "print(f\"\\nData saved to {file_name}.xlsx file successfully.\")\n"
   ]
  },
  {
   "cell_type": "code",
   "execution_count": null,
   "id": "02e21dca",
   "metadata": {},
   "outputs": [
    {
     "name": "stdout",
     "output_type": "stream",
     "text": [
      "Company Details:\n",
      "  Company Name  Date Founded  Company Shares  Company Liability  \\\n",
      "0         Eron          1987         1000000             200000   \n",
      "1      Aderson          1936         1500000             500000   \n",
      "2      JK jone          2001         3000000            1500000   \n",
      "3         Mica          1996          250000              50000   \n",
      "4         Dune          2008          800000             300000   \n",
      "\n",
      "   Percentage Leverage  \n",
      "0                 0.20  \n",
      "1                 0.30  \n",
      "2                 0.25  \n",
      "3                 0.15  \n",
      "4                 0.10  \n"
     ]
    }
   ],
   "source": [
    "import pandas as pd\n",
    "import numpy as np\n",
    "\n",
    "# Define arrays to store the company details\n",
    "company_names = np.array([\"Eron\", \"Aderson\", \"JK jone\", \"Mica\", \"Dune\"])\n",
    "found_dates = np.array([1987, 1936, 2001, 1996, 2008])\n",
    "company_shares = np.array([1000000, 1500000, 3000000, 250000, 800000])\n",
    "company_liabilities = np.array([200000, 500000, 1500000, 50000, 300000])\n",
    "leverages = np.array([0.2, 0.3, 0.25, 0.15, 0.1])\n",
    "\n",
    "# Create a dictionary to store the company details\n",
    "data = {\n",
    "    \"Company Name\": company_names,\n",
    "    \"Date Founded\": found_dates,\n",
    "    \"Company Shares\": company_shares,\n",
    "    \"Company Liability\": company_liabilities,\n",
    "    \"Percentage Leverage\": leverages\n",
    "}\n",
    "\n",
    "# Create a DataFrame from the dictionary\n",
    "df = pd.DataFrame(data)\n",
    "\n",
    "# Display the DataFrame\n",
    "print(\"Company Details:\")\n",
    "print(df)\n",
    "\n",
    "# Save the DataFrame to an Excel file\n",
    "file_name = input(\"\\nEnter the file name to save as (without extension): \")\n",
    "df.to_excel(f\"{file_name}.xlsx\", index=False)\n",
    "print(f\"\\nData saved to {file_name}.xlsx file successfully.\")\n"
   ]
  },
  {
   "cell_type": "code",
   "execution_count": null,
   "id": "5592ef58",
   "metadata": {},
   "outputs": [],
   "source": []
  }
 ],
 "metadata": {
  "kernelspec": {
   "display_name": "Python 3 (ipykernel)",
   "language": "python",
   "name": "python3"
  },
  "language_info": {
   "codemirror_mode": {
    "name": "ipython",
    "version": 3
   },
   "file_extension": ".py",
   "mimetype": "text/x-python",
   "name": "python",
   "nbconvert_exporter": "python",
   "pygments_lexer": "ipython3",
   "version": "3.10.9"
  }
 },
 "nbformat": 4,
 "nbformat_minor": 5
}
