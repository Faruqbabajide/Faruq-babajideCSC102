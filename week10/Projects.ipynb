{
 "cells": [
  {
   "cell_type": "code",
   "execution_count": 1,
   "id": "953a8471",
   "metadata": {},
   "outputs": [
    {
     "name": "stdout",
     "output_type": "stream",
     "text": [
      "We currently have 500 oranges in stock.\n",
      "Enter the number of oranges you want to buy: 21\n",
      "You bought 21 oranges. The total cost is $10.50.\n",
      "We currently have 479 oranges in stock.\n",
      "Thank you for your patronage!\n"
     ]
    }
   ],
   "source": [
    "class OrangeStore:\n",
    "    def __init__(self, stock_quantity):\n",
    "        self.stock_quantity = stock_quantity\n",
    "    \n",
    "    def buy_oranges(self, quantity):\n",
    "        if quantity > self.stock_quantity:\n",
    "            print(\"Sorry, we don't have enough oranges in stock. Please select a lower quantity.\")\n",
    "        else:\n",
    "            cost = quantity * 0.5  # Assuming each orange costs $0.5\n",
    "            self.stock_quantity -= quantity\n",
    "            print(f\"You bought {quantity} oranges. The total cost is ${cost:.2f}.\")\n",
    "    \n",
    "    def display_stock(self):\n",
    "        print(f\"We currently have {self.stock_quantity} oranges in stock.\")\n",
    "\n",
    "# Example usage\n",
    "store = OrangeStore(500)  # Initialize the store with 500 oranges in stock\n",
    "store.display_stock()\n",
    "\n",
    "quantity_to_buy = int(input(\"Enter the number of oranges you want to buy: \"))\n",
    "while quantity_to_buy > store.stock_quantity:\n",
    "    print(\"Sorry, the requested quantity exceeds the available stock. Please select a lower quantity.\")\n",
    "    quantity_to_buy = int(input(\"Enter the number of oranges you want to buy: \"))\n",
    "\n",
    "store.buy_oranges(quantity_to_buy)\n",
    "\n",
    "store.display_stock()\n",
    "\n",
    "print(\"Thank you for your patronage!\")\n"
   ]
  },
  {
   "cell_type": "code",
   "execution_count": null,
   "id": "92b5b3e9",
   "metadata": {},
   "outputs": [],
   "source": [
    "import pandas as pd\n",
    "\n",
    "class brewery():\n",
    "    def save(self,records):\n",
    "        self.records = records\n",
    "        print(\"File was saved successfully\")\n",
    "        \n",
    "print(\"PROGRAM THAT SAVES CATEGORIES OF DRINKS TO A CSV FILE\")\n",
    "records = {'Lager': [\"33 Export\", \"Desperados\", \"Goldberg\", \"Gulder\", \"Heineken\", \"Star\"],\n",
    "                        'Stout': [\"Legend\", \"Turbo King\", \"Williams\", \"\", \"\", \"\"],\n",
    "                        'Non-Alcoholic': [\"Maltina\", \"Amstel Malta\", \"Malta Gold\", \"Fayrouz\", \"\", \"\"]}\n",
    "df = pd.DataFrame(records)\n",
    "df.to_csv('records.csv')\n",
    "        \n",
    "inp = brewery()\n",
    "inp.save(records)"
   ]
  },
  {
   "cell_type": "code",
   "execution_count": 2,
   "id": "4a80e809",
   "metadata": {},
   "outputs": [
    {
     "name": "stdout",
     "output_type": "stream",
     "text": [
      "Select a shape (trapezium, cylinder, rhombus, cube, parallelogram): trapezium\n",
      "Enter the length of the first base of the trapezium: 12\n",
      "Enter the length of the second base of the trapezium: 12\n",
      "Enter the height of the trapezium: 12\n",
      "The area of the trapezium is 144.00 square units.\n"
     ]
    }
   ],
   "source": [
    "class AreaCalculator:\n",
    "    def __init__(self):\n",
    "        self.equations = {\n",
    "            \"trapezium\": self.calculate_trapezium_area,\n",
    "            \"cylinder\": self.calculate_cylinder_area,\n",
    "            \"rhombus\": self.calculate_rhombus_area,\n",
    "            \"cube\": self.calculate_cube_area,\n",
    "            \"parallelogram\": self.calculate_parallelogram_area\n",
    "        }\n",
    "\n",
    "    def calculate_trapezium_area(self):\n",
    "        base1 = float(input(\"Enter the length of the first base of the trapezium: \"))\n",
    "        base2 = float(input(\"Enter the length of the second base of the trapezium: \"))\n",
    "        height = float(input(\"Enter the height of the trapezium: \"))\n",
    "        area = (base1 + base2) * height / 2\n",
    "        print(f\"The area of the trapezium is {area:.2f} square units.\")\n",
    "\n",
    "    def calculate_cylinder_area(self):\n",
    "        radius = float(input(\"Enter the radius of the cylinder: \"))\n",
    "        height = float(input(\"Enter the height of the cylinder: \"))\n",
    "        area = 2 * 3.14 * radius * (radius + height)\n",
    "        print(f\"The surface area of the cylinder is {area:.2f} square units.\")\n",
    "\n",
    "    def calculate_rhombus_area(self):\n",
    "        diagonal1 = float(input(\"Enter the length of the first diagonal of the rhombus: \"))\n",
    "        diagonal2 = float(input(\"Enter the length of the second diagonal of the rhombus: \"))\n",
    "        area = (diagonal1 * diagonal2) / 2\n",
    "        print(f\"The area of the rhombus is {area:.2f} square units.\")\n",
    "\n",
    "    def calculate_cube_area(self):\n",
    "        side = float(input(\"Enter the length of a side of the cube: \"))\n",
    "        area = 6 * side * side\n",
    "        print(f\"The surface area of the cube is {area:.2f} square units.\")\n",
    "\n",
    "    def calculate_parallelogram_area(self):\n",
    "        base = float(input(\"Enter the length of the base of the parallelogram: \"))\n",
    "        height = float(input(\"Enter the height of the parallelogram: \"))\n",
    "        area = base * height\n",
    "        print(f\"The area of the parallelogram is {area:.2f} square units.\")\n",
    "\n",
    "    def calculate_area(self):\n",
    "        shape = input(\"Select a shape (trapezium, cylinder, rhombus, cube, parallelogram): \").lower()\n",
    "        if shape in self.equations:\n",
    "            self.equations[shape]()\n",
    "        else:\n",
    "            print(\"Invalid shape. Please try again.\")\n",
    "\n",
    "# Example usage\n",
    "calculator = AreaCalculator()\n",
    "calculator.calculate_area()\n"
   ]
  },
  {
   "cell_type": "code",
   "execution_count": null,
   "id": "eaf47235",
   "metadata": {},
   "outputs": [],
   "source": []
  }
 ],
 "metadata": {
  "kernelspec": {
   "display_name": "Python 3 (ipykernel)",
   "language": "python",
   "name": "python3"
  },
  "language_info": {
   "codemirror_mode": {
    "name": "ipython",
    "version": 3
   },
   "file_extension": ".py",
   "mimetype": "text/x-python",
   "name": "python",
   "nbconvert_exporter": "python",
   "pygments_lexer": "ipython3",
   "version": "3.10.9"
  }
 },
 "nbformat": 4,
 "nbformat_minor": 5
}
