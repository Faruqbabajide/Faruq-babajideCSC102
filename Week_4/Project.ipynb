{
 "cells": [
  {
   "cell_type": "code",
   "execution_count": 29,
   "id": "5a0eb789",
   "metadata": {},
   "outputs": [
    {
     "name": "stdout",
     "output_type": "stream",
     "text": [
      "A given class has 20 student (10 girls and 10 boys). For Girls :Age , Score anad height\n",
      "Name     | Age|Height|Score\n",
      "Samantha | 17 | 5.5 | 80 |\n",
      "Jada     | 16 | 6.0 | 85 |\n",
      "Jane     | 17 | 5.4 | 70 |\n",
      "Claire   | 18 | 5.9 | 60 |\n",
      "Elizabet | 16 | 5.6 | 76 |\n",
      "Mary     | 18 | 5.5 | 66 |\n",
      "Susan    | 17 | 6.1 | 87 |\n",
      "Waje     | 20 | 6.0 | 95 |\n",
      "Taibat   | 19 | 5.7 | 50 |\n",
      "Lilian   | 17 | 5.5 | 49 |\n",
      "A given class has 20 student (10 girls and 10 boys). For Boys Age , Score anad height\n",
      "Name     | Age|Height|Score\n",
      "Charles  | 29 | 4.5 | 80 |\n",
      "Jude     | 16 | 6.3 | 85 |\n",
      "James    | 18 | 5.4 | 70 |\n",
      "Kelvin   | 16 | 6.9 | 60 |\n",
      "Biodun   | 17 | 5.6 | 76 |\n",
      "Wale     | 18 | 5.5 | 66 |\n",
      "Kunle    | 17 | 6.1 | 87 |\n",
      "Matthew  | 20 | 6.0 | 95 |\n",
      "Tom      | 19 | 4.7 | 50 |\n",
      "Kayode   | 17 | 5.1 | 61 |\n"
     ]
    }
   ],
   "source": [
    "print(\"A given class has 20 student (10 girls and 10 boys). For Girls :Age , Score anad height\")\n",
    "Girls = ['Samantha', 'Jada    ','Jane    ', 'Claire  ', 'Elizabet', 'Mary    ', 'Susan   ', 'Waje    ', 'Taibat  ' , 'Lilian  ']\n",
    "Age= ['17','16','17','18','16','18','17','20','19','17']\n",
    "height= ['5.5','6.0','5.4','5.9','5.6','5.5','6.1','6.0','5.7','5.5']\n",
    "score = ['80','85','70','60','76','66','87','95','50','49']\n",
    "print(\"Name     | Age|Height|Score\")\n",
    "for i in  range(len(Age)):\n",
    "    print(Girls[i],  \"|\", Age[i],  \"|\" ,height[i],  \"|\" ,score[i],  \"|\")\n",
    "print(\"A given class has 20 student (10 girls and 10 boys). For Boys Age , Score anad height\")\n",
    "Boys = ['Charles ', 'Jude    ', 'James   ', 'Kelvin  ', 'Biodun  ', 'Wale    ', 'Kunle   ', 'Matthew ', 'Tom     ', 'Kayode  ']\n",
    "Age2= ['29','16','18','16','17','18','17','20','19','17']\n",
    "height2= ['4.5','6.3','5.4','6.9','5.6','5.5','6.1','6.0','4.7','5.1']\n",
    "score2 = ['80','85','70','60','76','66','87','95','50','61']\n",
    "print(\"Name     | Age|Height|Score\")\n",
    "for i in  range(len(Age)):\n",
    "    print(Boys[i],  \"|\", Age2[i],  \"|\" ,height2[i],  \"|\" ,score2[i],  \"|\")"
   ]
  },
  {
   "cell_type": "code",
   "execution_count": null,
   "id": "dfe91a2c",
   "metadata": {},
   "outputs": [],
   "source": [
    "def calculate_atr(years_of_experience, age):\n",
    "    if years_of_experience > 25 and age >= 55:\n",
    "        atr = 5600000\n",
    "    elif years_of_experience > 20 and age >= 45:\n",
    "        atr = 4480000\n",
    "    elif years_of_experience > 10 and age >= 35:\n",
    "        atr = 1500000\n",
    "    else:\n",
    "        atr = 550000\n",
    "    return atr\n",
    "\n",
    "years_of_experience = int(input(\"Enter years of experience: \"))\n",
    "age = int(input(\"Enter age: \"))\n",
    "atr = calculate_atr(years_of_experience, age)\n",
    "print(\"Annual Tax Revenue (ATR): N{:,}\".format(atr))"
   ]
  },
  {
   "cell_type": "code",
   "execution_count": null,
   "id": "d2819313",
   "metadata": {},
   "outputs": [],
   "source": [
    "Enter years of experience: 25\n",
    "Enter age: 20\n",
    "Annual Tax Revenue (ATR): N550,000"
   ]
  }
 ],
 "metadata": {
  "kernelspec": {
   "display_name": "Python 3 (ipykernel)",
   "language": "python",
   "name": "python3"
  },
  "language_info": {
   "codemirror_mode": {
    "name": "ipython",
    "version": 3
   },
   "file_extension": ".py",
   "mimetype": "text/x-python",
   "name": "python",
   "nbconvert_exporter": "python",
   "pygments_lexer": "ipython3",
   "version": "3.10.9"
  }
 },
 "nbformat": 4,
 "nbformat_minor": 5
}
