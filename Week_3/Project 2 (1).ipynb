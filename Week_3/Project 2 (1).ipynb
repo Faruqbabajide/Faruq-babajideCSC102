{
 "cells": [
  {
   "cell_type": "code",
   "execution_count": 23,
   "id": "b72f0a15",
   "metadata": {},
   "outputs": [
    {
     "name": "stdout",
     "output_type": "stream",
     "text": [
      "Hello i'm your PYTHON quadratic equation calculator. By entering the corresponding values for a, b, and c, I can help you determine the equation's roots.\n"
     ]
    },
    {
     "ename": "KeyboardInterrupt",
     "evalue": "Interrupted by user",
     "output_type": "error",
     "traceback": [
      "\u001b[1;31m---------------------------------------------------------------------------\u001b[0m",
      "\u001b[1;31mKeyboardInterrupt\u001b[0m                         Traceback (most recent call last)",
      "Cell \u001b[1;32mIn[23], line 3\u001b[0m\n\u001b[0;32m      1\u001b[0m \u001b[38;5;28;01mfrom\u001b[39;00m \u001b[38;5;21;01mmath\u001b[39;00m \u001b[38;5;28;01mimport\u001b[39;00m sqrt\n\u001b[0;32m      2\u001b[0m \u001b[38;5;28mprint\u001b[39m(\u001b[38;5;124m\"\u001b[39m\u001b[38;5;124mHello i\u001b[39m\u001b[38;5;124m'\u001b[39m\u001b[38;5;124mm your PYTHON quadratic equation calculator. By entering the corresponding values for a, b, and c, I can help you determine the equation\u001b[39m\u001b[38;5;124m'\u001b[39m\u001b[38;5;124ms roots.\u001b[39m\u001b[38;5;124m\"\u001b[39m )\n\u001b[1;32m----> 3\u001b[0m a \u001b[38;5;241m=\u001b[39m \u001b[38;5;28;43minput\u001b[39;49m\u001b[43m(\u001b[49m\u001b[38;5;124;43m\"\u001b[39;49m\u001b[38;5;124;43mInput your value of a: \u001b[39;49m\u001b[38;5;130;43;01m\\n\u001b[39;49;00m\u001b[38;5;124;43m\"\u001b[39;49m\u001b[43m)\u001b[49m\n\u001b[0;32m      4\u001b[0m a \u001b[38;5;241m=\u001b[39m \u001b[38;5;28mint\u001b[39m(a)\n\u001b[0;32m      5\u001b[0m b \u001b[38;5;241m=\u001b[39m \u001b[38;5;28minput\u001b[39m(\u001b[38;5;124m\"\u001b[39m\u001b[38;5;124mInput your value of b: \u001b[39m\u001b[38;5;130;01m\\n\u001b[39;00m\u001b[38;5;124m\"\u001b[39m)\n",
      "File \u001b[1;32m~\\anaconda3\\lib\\site-packages\\ipykernel\\kernelbase.py:1175\u001b[0m, in \u001b[0;36mKernel.raw_input\u001b[1;34m(self, prompt)\u001b[0m\n\u001b[0;32m   1171\u001b[0m \u001b[38;5;28;01mif\u001b[39;00m \u001b[38;5;129;01mnot\u001b[39;00m \u001b[38;5;28mself\u001b[39m\u001b[38;5;241m.\u001b[39m_allow_stdin:\n\u001b[0;32m   1172\u001b[0m     \u001b[38;5;28;01mraise\u001b[39;00m StdinNotImplementedError(\n\u001b[0;32m   1173\u001b[0m         \u001b[38;5;124m\"\u001b[39m\u001b[38;5;124mraw_input was called, but this frontend does not support input requests.\u001b[39m\u001b[38;5;124m\"\u001b[39m\n\u001b[0;32m   1174\u001b[0m     )\n\u001b[1;32m-> 1175\u001b[0m \u001b[38;5;28;01mreturn\u001b[39;00m \u001b[38;5;28;43mself\u001b[39;49m\u001b[38;5;241;43m.\u001b[39;49m\u001b[43m_input_request\u001b[49m\u001b[43m(\u001b[49m\n\u001b[0;32m   1176\u001b[0m \u001b[43m    \u001b[49m\u001b[38;5;28;43mstr\u001b[39;49m\u001b[43m(\u001b[49m\u001b[43mprompt\u001b[49m\u001b[43m)\u001b[49m\u001b[43m,\u001b[49m\n\u001b[0;32m   1177\u001b[0m \u001b[43m    \u001b[49m\u001b[38;5;28;43mself\u001b[39;49m\u001b[38;5;241;43m.\u001b[39;49m\u001b[43m_parent_ident\u001b[49m\u001b[43m[\u001b[49m\u001b[38;5;124;43m\"\u001b[39;49m\u001b[38;5;124;43mshell\u001b[39;49m\u001b[38;5;124;43m\"\u001b[39;49m\u001b[43m]\u001b[49m\u001b[43m,\u001b[49m\n\u001b[0;32m   1178\u001b[0m \u001b[43m    \u001b[49m\u001b[38;5;28;43mself\u001b[39;49m\u001b[38;5;241;43m.\u001b[39;49m\u001b[43mget_parent\u001b[49m\u001b[43m(\u001b[49m\u001b[38;5;124;43m\"\u001b[39;49m\u001b[38;5;124;43mshell\u001b[39;49m\u001b[38;5;124;43m\"\u001b[39;49m\u001b[43m)\u001b[49m\u001b[43m,\u001b[49m\n\u001b[0;32m   1179\u001b[0m \u001b[43m    \u001b[49m\u001b[43mpassword\u001b[49m\u001b[38;5;241;43m=\u001b[39;49m\u001b[38;5;28;43;01mFalse\u001b[39;49;00m\u001b[43m,\u001b[49m\n\u001b[0;32m   1180\u001b[0m \u001b[43m\u001b[49m\u001b[43m)\u001b[49m\n",
      "File \u001b[1;32m~\\anaconda3\\lib\\site-packages\\ipykernel\\kernelbase.py:1217\u001b[0m, in \u001b[0;36mKernel._input_request\u001b[1;34m(self, prompt, ident, parent, password)\u001b[0m\n\u001b[0;32m   1214\u001b[0m             \u001b[38;5;28;01mbreak\u001b[39;00m\n\u001b[0;32m   1215\u001b[0m \u001b[38;5;28;01mexcept\u001b[39;00m \u001b[38;5;167;01mKeyboardInterrupt\u001b[39;00m:\n\u001b[0;32m   1216\u001b[0m     \u001b[38;5;66;03m# re-raise KeyboardInterrupt, to truncate traceback\u001b[39;00m\n\u001b[1;32m-> 1217\u001b[0m     \u001b[38;5;28;01mraise\u001b[39;00m \u001b[38;5;167;01mKeyboardInterrupt\u001b[39;00m(\u001b[38;5;124m\"\u001b[39m\u001b[38;5;124mInterrupted by user\u001b[39m\u001b[38;5;124m\"\u001b[39m) \u001b[38;5;28;01mfrom\u001b[39;00m \u001b[38;5;28mNone\u001b[39m\n\u001b[0;32m   1218\u001b[0m \u001b[38;5;28;01mexcept\u001b[39;00m \u001b[38;5;167;01mException\u001b[39;00m:\n\u001b[0;32m   1219\u001b[0m     \u001b[38;5;28mself\u001b[39m\u001b[38;5;241m.\u001b[39mlog\u001b[38;5;241m.\u001b[39mwarning(\u001b[38;5;124m\"\u001b[39m\u001b[38;5;124mInvalid Message:\u001b[39m\u001b[38;5;124m\"\u001b[39m, exc_info\u001b[38;5;241m=\u001b[39m\u001b[38;5;28;01mTrue\u001b[39;00m)\n",
      "\u001b[1;31mKeyboardInterrupt\u001b[0m: Interrupted by user"
     ]
    }
   ],
   "source": [
    "from math import sqrt\n",
    "print(\"Hello i'm your PYTHON quadratic equation calculator. By entering the corresponding values for a, b, and c, I can help you determine the equation's roots.\" )\n",
    "a = input(\"Input your value of a: \\n\")\n",
    "a = int(a)\n",
    "b = input(\"Input your value of b: \\n\")\n",
    "b = int(b)\n",
    "c = input(\"Input your value of c: \\n\")\n",
    "c = int(b)\n",
    "d = -1.00 * b\n",
    "e = b * b - (4.00 * a * c )\n",
    "f = sqrt(e)\n",
    "g = 2.00 * a\n",
    "x = (d + f) / g \n",
    "\n",
    "h = -1.00 * b;\n",
    "i = b * b - (4.00 * a * c );\n",
    "j = sqrt(i);\n",
    "k = 2.00 * a;\n",
    "y = (h - j) / k;\n",
    "\n",
    "\n",
    "if (b * b) - (4.00 * a * c) < 0.00:\n",
    "    \n",
    " print(\"There are no real roots of this equation, Restart the process\")\n",
    "    \n",
    "\n",
    "elif (b * b) - (4.00 * a * c) == 0.00:\n",
    "       \n",
    " print (\"The roots of this equation have the same value of {}\", x)\n",
    "    \n",
    "else :\n",
    "       \n",
    " print(f\"The distinct roots of this quadratic eqaution are {x}, and {y} as requested for ,Thank you!\")\n",
    "    \n",
    "\n"
   ]
  },
  {
   "cell_type": "markdown",
   "id": "a8d64ff9",
   "metadata": {},
   "source": [
    "### "
   ]
  },
  {
   "cell_type": "code",
   "execution_count": 25,
   "id": "2292f652",
   "metadata": {
    "scrolled": false
   },
   "outputs": [
    {
     "name": "stdout",
     "output_type": "stream",
     "text": [
      "Hello i'm your PYTHON cubic equation calculator. By entering the corresponding values for a, b, and c, I can help you determine the equation's roots.\n",
      "Input your value of a: \n",
      "1\n",
      "Input your value of b: \n",
      "3\n",
      "Input your value of c: \n",
      "4\n",
      "Input your value of d: \n",
      "5\n",
      "[(-0.047085856852483454+1.2507287871944242j)]\n"
     ]
    }
   ],
   "source": [
    "import math\n",
    "\n",
    "def solve_cubic(a, b, c, d):\n",
    "    if a == 0:\n",
    "        # This is not a cubic equation!\n",
    "        return None\n",
    "\n",
    "    # Normalize the equation so that the coefficient of x^3 is 1\n",
    "    b /= a\n",
    "    c /= a\n",
    "    d /= a\n",
    "\n",
    "    # Calculate the coefficients of the depressed cubic equation\n",
    "    p = (3 * c - b**2) / 3\n",
    "    q = (2 * b**3 - 9 * b * c + 27 * d) / 27\n",
    "\n",
    "    # Calculate the discriminant\n",
    "    discriminant = q**2 / 4 + p**3 / 27\n",
    "\n",
    "    if discriminant > 0:\n",
    "        # There are three real roots\n",
    "        u = (-q / 2 + math.sqrt(discriminant))**(1/3)\n",
    "        v = (-q / 2 - math.sqrt(discriminant))**(1/3)\n",
    "        return [u + v - b / 3]\n",
    "\n",
    "    elif discriminant == 0:\n",
    "        # There is one real root\n",
    "        if q < 0:\n",
    "            u = -(-q / 2)**(1/3)\n",
    "        else:\n",
    "            u = (q / 2)**(1/3)\n",
    "        return [2 * u - b / 3, -u - b / 3]\n",
    "\n",
    "    else:\n",
    "        # There are three distinct real roots\n",
    "        phi = math.acos(-q / 2 / math.sqrt(-p**3 / 27)) / 3\n",
    "        r1 = 2 * math.sqrt(-p / 3) * math.cos(phi)\n",
    "        r2 = 2 * math.sqrt(-p / 3) * math.cos(phi + 2 * math.pi / 3)\n",
    "        r3 = 2 * math.sqrt(-p / 3) * math.cos(phi - 2 * math.pi / 3)\n",
    "        return [r1 - b / 3, r2 - b / 3, r3 - b / 3]\n",
    "print(\"Hello i'm your PYTHON cubic equation calculator. By entering the corresponding values for a, b, and c, I can help you determine the equation's roots.\" )\n",
    "a = input(\"Input your value of a: \\n\")\n",
    "a = float(a)\n",
    "b = input(\"Input your value of b: \\n\")\n",
    "b = float(b)\n",
    "c = input(\"Input your value of c: \\n\")\n",
    "c = float(c)\n",
    "d = input(\"Input your value of d: \\n\")\n",
    "d = float(d)       \n",
    "# Solve the equation x^3 + 3x^2 - 5x - 3 = 0\n",
    "roots = solve_cubic(a, b, c, d)\n",
    "print(roots)  \n",
    "\n"
   ]
  },
  {
   "cell_type": "code",
   "execution_count": null,
   "id": "a7ddaa89",
   "metadata": {},
   "outputs": [],
   "source": []
  },
  {
   "cell_type": "code",
   "execution_count": null,
   "id": "d7ed4a5a",
   "metadata": {},
   "outputs": [],
   "source": []
  },
  {
   "cell_type": "code",
   "execution_count": null,
   "id": "7ee64371",
   "metadata": {},
   "outputs": [],
   "source": []
  }
 ],
 "metadata": {
  "kernelspec": {
   "display_name": "Python 3 (ipykernel)",
   "language": "python",
   "name": "python3"
  },
  "language_info": {
   "codemirror_mode": {
    "name": "ipython",
    "version": 3
   },
   "file_extension": ".py",
   "mimetype": "text/x-python",
   "name": "python",
   "nbconvert_exporter": "python",
   "pygments_lexer": "ipython3",
   "version": "3.10.9"
  }
 },
 "nbformat": 4,
 "nbformat_minor": 5
}
