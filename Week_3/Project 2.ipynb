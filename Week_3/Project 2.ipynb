{
 "cells": [
  {
   "cell_type": "code",
   "execution_count": 19,
   "id": "b72f0a15",
   "metadata": {},
   "outputs": [
    {
     "name": "stdout",
     "output_type": "stream",
     "text": [
      "Hello i'm your PYTHON quadratic equation calculator. By entering the corresponding values for a, b, and c, I can help you determine the equation's roots.\n",
      "Input your value of a: \n",
      "1\n",
      "Input your value of b: \n",
      "-2\n",
      "Input your value of c: \n",
      "-1\n",
      "The distinct roots of this quadratic eqaution are {}, and {} as requested for ,Thank you! 2.732050807568877 -0.7320508075688772\n"
     ]
    }
   ],
   "source": [
    "from math import sqrt\n",
    "print(\"Hello i'm your PYTHON quadratic equation calculator. By entering the corresponding values for a, b, and c, I can help you determine the equation's roots.\" )\n",
    "a = input(\"Input your value of a: \\n\")\n",
    "a = int(a)\n",
    "b = input(\"Input your value of b: \\n\")\n",
    "b = int(b)\n",
    "c = input(\"Input your value of c: \\n\")\n",
    "c = int(b)\n",
    "d = -1.00 * b\n",
    "e = b * b - (4.00 * a * c )\n",
    "f = sqrt(e)\n",
    "g = 2.00 * a\n",
    "x = (d + f) / g \n",
    "\n",
    "h = -1.00 * b;\n",
    "i = b * b - (4.00 * a * c );\n",
    "j = sqrt(i);\n",
    "k = 2.00 * a;\n",
    "y = (h - j) / k;\n",
    "\n",
    "\n",
    "if (b * b) - (4.00 * a * c) < 0.00:\n",
    "    \n",
    " print(\"There are no real roots of this equation, Restart the process\")\n",
    "    \n",
    "\n",
    "elif (b * b) - (4.00 * a * c) == 0.00:\n",
    "       \n",
    " print (\"The roots of this equation have the same value of {}\", x)\n",
    "    \n",
    "else :\n",
    "       \n",
    " print(\"The distinct roots of this quadratic eqaution are {}, and {} as requested for ,Thank you!\", x, y)\n",
    "    \n",
    "\n"
   ]
  },
  {
   "cell_type": "code",
   "execution_count": null,
   "id": "296e11af",
   "metadata": {},
   "outputs": [
    {
     "name": "stdout",
     "output_type": "stream",
     "text": [
      "Hello i'm your PYTHON cubic equation calculator. By entering the corresponding values for a, b, and c, I can help you determine the equation's roots.\n"
     ]
    }
   ],
   "source": [
    "from math import sqrt\n",
    "print(\"Hello i'm your PYTHON cubic equation calculator. By entering the corresponding values for a, b, and c, I can help you determine the equation's roots.\" )\n",
    "a = input(\"Input your value of a: \\n\")\n",
    "a = int(a)\n",
    "b = input(\"Input your value of b: \\n\")\n",
    "b = int(b)\n",
    "c = input(\"Input your value of c: \\n\")\n",
    "c = int(b)\n",
    "d = input(\"Input your value of d: \\n\")\n",
    "d = int(d)\n",
    "print(\"loading.....\")"
   ]
  },
  {
   "cell_type": "markdown",
   "id": "a8d64ff9",
   "metadata": {},
   "source": [
    "### "
   ]
  },
  {
   "cell_type": "code",
   "execution_count": null,
   "id": "2292f652",
   "metadata": {},
   "outputs": [],
   "source": []
  }
 ],
 "metadata": {
  "kernelspec": {
   "display_name": "Python 3 (ipykernel)",
   "language": "python",
   "name": "python3"
  },
  "language_info": {
   "codemirror_mode": {
    "name": "ipython",
    "version": 3
   },
   "file_extension": ".py",
   "mimetype": "text/x-python",
   "name": "python",
   "nbconvert_exporter": "python",
   "pygments_lexer": "ipython3",
   "version": "3.10.9"
  }
 },
 "nbformat": 4,
 "nbformat_minor": 5
}
