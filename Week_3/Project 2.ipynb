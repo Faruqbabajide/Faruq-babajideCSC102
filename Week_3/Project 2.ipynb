{
 "cells": [
  {
   "cell_type": "code",
   "execution_count": 4,
   "id": "b72f0a15",
   "metadata": {},
   "outputs": [
    {
     "name": "stdout",
     "output_type": "stream",
     "text": [
      "Hello i'm your PYTHON quadratic equation calculator. By entering the corresponding values for a, b, and c, I can help you determine the equation's roots.\n",
      "Input your value of a: \n",
      "1\n",
      "Input your value of b: \n",
      "-2\n",
      "Input your value of c: \n",
      "-15\n",
      "The distinct roots of this quadratic eqaution are 2.732050807568877, and -0.7320508075688772 as requested for ,Thank you!\n"
     ]
    }
   ],
   "source": [
    "from math import sqrt\n",
    "print(\"Hello i'm your PYTHON quadratic equation calculator. By entering the corresponding values for a, b, and c, I can help you determine the equation's roots.\" )\n",
    "a = input(\"Input your value of a: \\n\")\n",
    "a = int(a)\n",
    "b = input(\"Input your value of b: \\n\")\n",
    "b = int(b)\n",
    "c = input(\"Input your value of c: \\n\")\n",
    "c = int(b)\n",
    "d = -1.00 * b\n",
    "e = b * b - (4.00 * a * c )\n",
    "f = sqrt(e)\n",
    "g = 2.00 * a\n",
    "x = (d + f) / g \n",
    "\n",
    "h = -1.00 * b;\n",
    "i = b * b - (4.00 * a * c );\n",
    "j = sqrt(i);\n",
    "k = 2.00 * a;\n",
    "y = (h - j) / k;\n",
    "\n",
    "\n",
    "if (b * b) - (4.00 * a * c) < 0.00:\n",
    "    \n",
    " print(\"There are no real roots of this equation, Restart the process\")\n",
    "    \n",
    "\n",
    "elif (b * b) - (4.00 * a * c) == 0.00:\n",
    "       \n",
    " print (\"The roots of this equation have the same value of {}\", x)\n",
    "    \n",
    "else :\n",
    "       \n",
    " print(f\"The distinct roots of this quadratic eqaution are {x}, and {y} as requested for ,Thank you!\")\n",
    "    \n",
    "\n"
   ]
  },
  {
   "cell_type": "markdown",
   "id": "a8d64ff9",
   "metadata": {},
   "source": [
    "### "
   ]
  },
  {
   "cell_type": "code",
   "execution_count": 3,
   "id": "2292f652",
   "metadata": {
    "scrolled": false
   },
   "outputs": [
    {
     "name": "stdout",
     "output_type": "stream",
     "text": [
      "Hello i'm your PYTHON cubic equation calculator. By entering the corresponding values for a, b, and c, I can help you determine the equation's roots.\n",
      "Input your value of a: \n",
      "2\n",
      "Input your value of b: \n",
      "-2\n",
      "Input your value of c: \n",
      "-15\n",
      "Input your value of d: \n",
      "4\n",
      "[3.168090108062853, -2.428087037909591, 0.25999692984674]\n"
     ]
    }
   ],
   "source": [
    "import math\n",
    "\n",
    "def solve_cubic(a, b, c, d):\n",
    "    if a == 0:\n",
    "        # This is not a cubic equation!\n",
    "        return None\n",
    "\n",
    "    # Normalize the equation so that the coefficient of x^3 is 1\n",
    "    b /= a\n",
    "    c /= a\n",
    "    d /= a\n",
    "\n",
    "    # Calculate the coefficients of the depressed cubic equation\n",
    "    p = (3 * c - b**2) / 3\n",
    "    q = (2 * b**3 - 9 * b * c + 27 * d) / 27\n",
    "\n",
    "    # Calculate the discriminant\n",
    "    discriminant = q**2 / 4 + p**3 / 27\n",
    "\n",
    "    if discriminant > 0:\n",
    "        # There are three real roots\n",
    "        u = (-q / 2 + math.sqrt(discriminant))**(1/3)\n",
    "        v = (-q / 2 - math.sqrt(discriminant))**(1/3)\n",
    "        return [u + v - b / 3]\n",
    "\n",
    "    elif discriminant == 0:\n",
    "        # There is one real root\n",
    "        if q < 0:\n",
    "            u = -(-q / 2)**(1/3)\n",
    "        else:\n",
    "            u = (q / 2)**(1/3)\n",
    "        return [2 * u - b / 3, -u - b / 3]\n",
    "\n",
    "    else:\n",
    "        # There are three distinct real roots\n",
    "        phi = math.acos(-q / 2 / math.sqrt(-p**3 / 27)) / 3\n",
    "        r1 = 2 * math.sqrt(-p / 3) * math.cos(phi)\n",
    "        r2 = 2 * math.sqrt(-p / 3) * math.cos(phi + 2 * math.pi / 3)\n",
    "        r3 = 2 * math.sqrt(-p / 3) * math.cos(phi - 2 * math.pi / 3)\n",
    "        return [r1 - b / 3, r2 - b / 3, r3 - b / 3]\n",
    "print(\"Hello i'm your PYTHON cubic equation calculator. By entering the corresponding values for a, b, and c, I can help you determine the equation's roots.\" )\n",
    "a = input(\"Input your value of a: \\n\")\n",
    "a = float(a)\n",
    "b = input(\"Input your value of b: \\n\")\n",
    "b = float(b)\n",
    "c = input(\"Input your value of c: \\n\")\n",
    "c = float(c)\n",
    "d = input(\"Input your value of d: \\n\")\n",
    "d = float(d)       \n",
    "# Solve the equation x^3 + 3x^2 - 5x - 3 = 0\n",
    "roots = solve_cubic(a, b, c, d)\n",
    "print(roots)  \n",
    "\n"
   ]
  },
  {
   "cell_type": "code",
   "execution_count": null,
   "id": "9e658184",
   "metadata": {},
   "outputs": [],
   "source": []
  },
  {
   "cell_type": "code",
   "execution_count": null,
   "id": "d7ed4a5a",
   "metadata": {},
   "outputs": [],
   "source": []
  },
  {
   "cell_type": "code",
   "execution_count": null,
   "id": "7ee64371",
   "metadata": {},
   "outputs": [],
   "source": []
  }
 ],
 "metadata": {
  "kernelspec": {
   "display_name": "Python 3 (ipykernel)",
   "language": "python",
   "name": "python3"
  },
  "language_info": {
   "codemirror_mode": {
    "name": "ipython",
    "version": 3
   },
   "file_extension": ".py",
   "mimetype": "text/x-python",
   "name": "python",
   "nbconvert_exporter": "python",
   "pygments_lexer": "ipython3",
   "version": "3.10.9"
  }
 },
 "nbformat": 4,
 "nbformat_minor": 5
}
