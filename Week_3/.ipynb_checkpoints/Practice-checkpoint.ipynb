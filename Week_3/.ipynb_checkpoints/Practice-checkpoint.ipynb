{
 "cells": [
  {
   "cell_type": "code",
   "execution_count": 1,
   "id": "8469aacf",
   "metadata": {},
   "outputs": [
    {
     "name": "stdout",
     "output_type": "stream",
     "text": [
      "['Anaconda', 786, 2.23, 'Jupyter', 70.2]\n",
      "Anaconda\n",
      "[786, 2.23]\n",
      "[2.23, 'Jupyter', 70.2]\n",
      "[321, 'Python', 321, 'Python']\n",
      "['Anaconda', 786, 2.23, 'Jupyter', 70.2, 321, 'Python']\n"
     ]
    }
   ],
   "source": [
    "list = [ 'Anaconda', 786, 2.23, 'Jupyter', 70.2 ]\n",
    "\n",
    "shortlist = [321, 'Python']\n",
    "\n",
    "print (list) # Prints complete list ''\n",
    "print(list[0])\n",
    "# Prints first element of the List\n",
    "print(list[1:3])\n",
    "# Prints elements starting from 2nd till 3rd\n",
    "print(list[2:])\n",
    "       \n",
    "# Prints elements starting from 3rd element'**\n",
    "print(shortlist * 2)\n",
    "# Prints List two times\n",
    "print(list + shortlist) # Prints concatenated Lists\n"
   ]
  },
  {
   "cell_type": "code",
   "execution_count": null,
   "id": "ad4e41ef",
   "metadata": {},
   "outputs": [],
   "source": [
    "str = input(\"Enter your state of origin:\")\n",
    "print  (\"Your state of origin is:\", str)\n",
    "print (\"The first character is:\", str[0])\n",
    "print (\"The characters starting from 3rd to Sth are:\" ,str[2:5])\n",
    "print (\"The string starting from 3rd character is:\", str[2:])\n",
    "print (\"State of origin two times\")"
   ]
  },
  {
   "cell_type": "code",
   "execution_count": null,
   "id": "8e06d4f4",
   "metadata": {},
   "outputs": [],
   "source": [
    "# Input from user\n",
    "m = float(input(\"Enter mass in kilograms: \"))\n",
    " # Constant value for the speed of Light in m/s\n",
    "c = 299792458\n",
    "# Calculating energy using Einstein's equation\n",
    "energy = m * c ** 2\n",
    "# Displaying the result\n",
    "print(f\"The energy equivalent to {m} kg of mass is {energy} joules.\")"
   ]
  },
  {
   "cell_type": "code",
   "execution_count": null,
   "id": "14eb56b5",
   "metadata": {},
   "outputs": [],
   "source": [
    "tuple = (\"Ekiti\", 750, 'Oshogbo', 250, \"Akure\", 500)\n",
    "\n",
    "s_tuple =(\"Abeokuta\", 300, \"Ogbomoso\")\n",
    "\n",
    "# Prints the complete tuple\n",
    "\n",
    "print (tuple)\n",
    "\n",
    "\n",
    "# Prints last element of the tuple\n",
    "\n",
    "print (tuple[-1])\n",
    "# Prints elements of the tuple starting from and till 3rd\n",
    "print (tuple[2:4])\n",
    "# Prints elements of the tuple starting from 3rd element\n",
    "print (tuple[3:])\n",
    "# Prints the contents of the tuple twice\n",
    "print (s_tuple * 3)\n",
    "\n",
    "# Prints concatenated tuples\n",
    "print (tuple + s_tuple)"
   ]
  },
  {
   "cell_type": "code",
   "execution_count": null,
   "id": "33ae26ba",
   "metadata": {},
   "outputs": [],
   "source": [
    "# Returns false as game 1 is not equal to game\n",
    "game_1 = 2\n",
    "game_2 = 4\n",
    "print(bool (game_1 == game_2))\n",
    "# Or\n",
    "print(game_1 == game_2)\n",
    "\n",
    "\n",
    "# Returns False as val is None\n",
    "val = None\n",
    "\n",
    "print (bool (val))\n",
    "# Returns false as num is an empty sequence\n",
    "num = ()\n",
    "print (bool (num))\n",
    "# Returns true as age is boolean\n",
    "age = True\n",
    "print(bool (age))"
   ]
  },
  {
   "cell_type": "code",
   "execution_count": null,
   "id": "39fcf68c",
   "metadata": {},
   "outputs": [],
   "source": [
    "# Convert to int\n",
    "grade = int(70)\n",
    "gpa = int (4.9)\n",
    "cgpa = int(\"4\")\n",
    "# grade will be 70\n",
    "# apa will be 4.9\n",
    "# capo will be 4\n",
    "print(f\"Grade = {grade}\")\n",
    "print(f\"GPA = {gpa}\")\n",
    "print(f\"CGPA={cgpa}\")"
   ]
  },
  {
   "cell_type": "code",
   "execution_count": null,
   "id": "181f3da5",
   "metadata": {},
   "outputs": [],
   "source": [
    "grade = float (97)\n",
    "gpa = float(5)\n",
    "cgpa = float (\"4.7\")\n",
    "print(f\"Grade = {grade}\")\n",
    "print(f\"GPA = {gpa}\")\n",
    "print(f\"CGPA = {cgpa}\")\n",
    "\n"
   ]
  },
  {
   "cell_type": "code",
   "execution_count": null,
   "id": "aed37435",
   "metadata": {},
   "outputs": [],
   "source": []
  }
 ],
 "metadata": {
  "kernelspec": {
   "display_name": "Python 3 (ipykernel)",
   "language": "python",
   "name": "python3"
  },
  "language_info": {
   "codemirror_mode": {
    "name": "ipython",
    "version": 3
   },
   "file_extension": ".py",
   "mimetype": "text/x-python",
   "name": "python",
   "nbconvert_exporter": "python",
   "pygments_lexer": "ipython3",
   "version": "3.10.9"
  }
 },
 "nbformat": 4,
 "nbformat_minor": 5
}
