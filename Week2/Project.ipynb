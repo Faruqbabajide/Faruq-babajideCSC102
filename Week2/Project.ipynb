{
 "cells": [
  {
   "cell_type": "code",
   "execution_count": 9,
   "id": "eba8dd4d",
   "metadata": {},
   "outputs": [
    {
     "name": "stdout",
     "output_type": "stream",
     "text": [
      "This is  Simple interet calculator\n",
      "Enter your principal value: 10\n",
      "Enter your rate value:19\n",
      "Enter your value for your time:12\n",
      "your simple interest is :\n",
      "22.8\n"
     ]
    }
   ],
   "source": [
    "#Simple interest calculator\n",
    "print(\"This is  Simple interet calculator\")\n",
    "p = input(\"Enter your principal value: \")\n",
    "p = int(p)\n",
    "r = input(\"Enter your rate value:\")\n",
    "r = int(r)\n",
    "t = input(\"Enter your value for your time:\")\n",
    "t = int(t)\n",
    "print(\"Your simple interest is :\")\n",
    "print(p * r * t / 100)"
   ]
  },
  {
   "cell_type": "code",
   "execution_count": 14,
   "id": "5d197e24",
   "metadata": {},
   "outputs": [
    {
     "name": "stdout",
     "output_type": "stream",
     "text": [
      "This is  a compund interest calculator , an d I would be helping you calculate your compound interest . \n",
      "Enter your principal value: 10000\n",
      "Enter your rate value:8\n",
      "Enter your value for your time:1\n",
      "Enter your value for your n4\n",
      "Your simple interest is :\n",
      "10824.3216\n"
     ]
    }
   ],
   "source": [
    "#compound interest calculator\n",
    "print(\"This is  a compund interest calculator , an d I would be helping you calculate your compound interest . \")\n",
    "p = input(\"Enter your principal value: \")\n",
    "p = int(p)\n",
    "r = input(\"Enter your rate value:\")\n",
    "r = int(r)\n",
    "t = input(\"Enter your value for your time:\")\n",
    "t = int(t)\n",
    "n= input(\"Enter your value for your number of compunding per yer\")\n",
    "n= int(n)\n",
    "print(\"Your compound  interest accumulated balance is :\")\n",
    "print(p *(1 + r / 100 /n) ** n * t )\n",
    "\n"
   ]
  },
  {
   "cell_type": "markdown",
   "id": "ebc2e46d",
   "metadata": {},
   "source": [
    "### "
   ]
  },
  {
   "cell_type": "code",
   "execution_count": 17,
   "id": "91db6062",
   "metadata": {},
   "outputs": [
    {
     "name": "stdout",
     "output_type": "stream",
     "text": [
      "This is  a Annuity plan calculator , and I would be helping you calculate your Annuity plan . \n",
      "Enter your principal value: 2000\n",
      "Enter your rate value:50\n",
      "Enter your value for your time:4\n",
      "Enter your value for your number of compunding per yer4\n",
      "Your compound  interest accumulated balance is :\n",
      "6407.2265625\n"
     ]
    }
   ],
   "source": [
    "#Annuity plan calculator\n",
    "print(\"This is  a Annuity plan calculator , and I would be helping you calculate your Annuity plan . \")\n",
    "p = input(\"Enter your principal value: \")\n",
    "p = int(p)\n",
    "r = input(\"Enter your rate value:\")\n",
    "r = int(r)\n",
    "t = input(\"Enter your value for your time:\")\n",
    "t = int(t)\n",
    "n= input(\"Enter your value for your number of compunding per yer\")\n",
    "n= int(n)\n",
    "print(\"Your Annuity plan accumulated balance is :\")\n",
    "print((p *((1 + r / 100 /n) ** n * t )/(r/100)/n))\n"
   ]
  },
  {
   "cell_type": "code",
   "execution_count": null,
   "id": "3e8da054",
   "metadata": {},
   "outputs": [],
   "source": []
  }
 ],
 "metadata": {
  "kernelspec": {
   "display_name": "Python 3 (ipykernel)",
   "language": "python",
   "name": "python3"
  },
  "language_info": {
   "codemirror_mode": {
    "name": "ipython",
    "version": 3
   },
   "file_extension": ".py",
   "mimetype": "text/x-python",
   "name": "python",
   "nbconvert_exporter": "python",
   "pygments_lexer": "ipython3",
   "version": "3.10.9"
  }
 },
 "nbformat": 4,
 "nbformat_minor": 5
}
