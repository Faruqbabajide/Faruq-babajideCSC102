{
 "cells": [
  {
   "cell_type": "code",
   "execution_count": 1,
   "id": "15859fd6-7a35-4bdf-b4ab-6cf4837bfe23",
   "metadata": {},
   "outputs": [
    {
     "name": "stdout",
     "output_type": "stream",
     "text": [
      "100\n",
      "Data type of variable num is  <class 'int'>\n",
      "100\n",
      "Data type of variable fnum is  <class 'float'>\n",
      "(3+4j)\n",
      "Data type of variable cnum is  <class 'complex'>\n"
     ]
    }
   ],
   "source": [
    "num = 100 \n",
    "print(num)\n",
    "print (\"Data type of variable num is \", type(num))\n",
    "\n",
    "fnum = 10.56 \n",
    "print(num)\n",
    "print (\"Data type of variable fnum is \", type(fnum))\n",
    "\n",
    "cnum = 3 + 4j \n",
    "print(cnum)\n",
    "print (\"Data type of variable cnum is \", type(cnum))\n",
    "\n"
   ]
  },
  {
   "cell_type": "code",
   "execution_count": 7,
   "id": "26c723c1-5c65-4c9b-aac1-616f698b78c1",
   "metadata": {},
   "outputs": [
    {
     "name": "stdout",
     "output_type": "stream",
     "text": [
      "Hi my name is faruq. I am a string\n",
      "<class 'str'>\n",
      "my name is olami , i am also a string\n",
      "<class 'str'>\n"
     ]
    }
   ],
   "source": [
    "str1 = \"Hi my name is faruq. I am a string\"\n",
    "str2 = 'my name is olami , i am also a string'\n",
    " \n",
    "print(str1)\n",
    "print(type(str1))\n",
    "    \n",
    "    \n",
    "print(str2)\n",
    "print(type(str2))"
   ]
  },
  {
   "cell_type": "code",
   "execution_count": null,
   "id": "32375c1c",
   "metadata": {},
   "outputs": [],
   "source": []
  },
  {
   "cell_type": "code",
   "execution_count": null,
   "id": "57a99e5d",
   "metadata": {},
   "outputs": [],
   "source": []
  },
  {
   "cell_type": "code",
   "execution_count": null,
   "id": "eaa6019b",
   "metadata": {},
   "outputs": [],
   "source": []
  }
 ],
 "metadata": {
  "kernelspec": {
   "display_name": "Python 3 (ipykernel)",
   "language": "python",
   "name": "python3"
  },
  "language_info": {
   "codemirror_mode": {
    "name": "ipython",
    "version": 3
   },
   "file_extension": ".py",
   "mimetype": "text/x-python",
   "name": "python",
   "nbconvert_exporter": "python",
   "pygments_lexer": "ipython3",
   "version": "3.10.9"
  }
 },
 "nbformat": 4,
 "nbformat_minor": 5
}
